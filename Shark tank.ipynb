{
 "cells": [
  {
   "cell_type": "code",
   "execution_count": null,
   "id": "8db87bbb",
   "metadata": {},
   "outputs": [],
   "source": [
    "import numpy as np\n",
    "import pandas as pd"
   ]
  },
  {
   "cell_type": "code",
   "execution_count": null,
   "id": "712fe9fb",
   "metadata": {},
   "outputs": [],
   "source": [
    "df = pd.read_csv('ShartankIndiaAllPitches.csv')"
   ]
  },
  {
   "cell_type": "code",
   "execution_count": null,
   "id": "773b0efb",
   "metadata": {},
   "outputs": [],
   "source": [
    "df.head(5)"
   ]
  },
  {
   "cell_type": "code",
   "execution_count": null,
   "id": "e5b9d5be",
   "metadata": {},
   "outputs": [],
   "source": [
    "df.shape"
   ]
  },
  {
   "cell_type": "markdown",
   "id": "0c4432df",
   "metadata": {},
   "source": [
    "Number of yes and no per shark"
   ]
  },
  {
   "cell_type": "code",
   "execution_count": null,
   "id": "76fc698c",
   "metadata": {},
   "outputs": [],
   "source": [
    "df['Anupam'].value_counts()"
   ]
  },
  {
   "cell_type": "code",
   "execution_count": null,
   "id": "a3c16dab",
   "metadata": {},
   "outputs": [],
   "source": [
    "df['Ashneer'].value_counts()"
   ]
  },
  {
   "cell_type": "code",
   "execution_count": null,
   "id": "6c5af20b",
   "metadata": {},
   "outputs": [],
   "source": [
    "list(df['Namita'].value_counts())"
   ]
  },
  {
   "cell_type": "code",
   "execution_count": null,
   "id": "27117775",
   "metadata": {},
   "outputs": [],
   "source": [
    "import mysql.connector"
   ]
  },
  {
   "cell_type": "code",
   "execution_count": null,
   "id": "b74d7f2c",
   "metadata": {},
   "outputs": [],
   "source": [
    "db = mysql.connector.connect(host = 'localhost',user = 'root',password = 'Emmabhi@15', database = 'newdatabase')"
   ]
  },
  {
   "cell_type": "code",
   "execution_count": null,
   "id": "02ccfaf5",
   "metadata": {},
   "outputs": [],
   "source": [
    "curs = db.cursor()"
   ]
  },
  {
   "cell_type": "code",
   "execution_count": null,
   "id": "447e39ed",
   "metadata": {},
   "outputs": [],
   "source": [
    "curs.execute('Create table shark_tank (Name_of_shark varchar(30), count_of_Y varchar(5), count_N varchar(5));')"
   ]
  },
  {
   "cell_type": "code",
   "execution_count": null,
   "id": "ddc81779",
   "metadata": {},
   "outputs": [],
   "source": [
    "df.columns"
   ]
  },
  {
   "cell_type": "code",
   "execution_count": null,
   "id": "a81f0f81",
   "metadata": {},
   "outputs": [],
   "source": [
    "name = ['Anupam','Ashneer','Namita','Aman','Peyush','Vineeta','Ghazal']\n",
    "county = [list(df[name[0]].value_counts())[0],list(df[name[1]].value_counts())[0],list(df[name[2]].value_counts())[0],list(df[name[3]].value_counts())[0],list(df[name[4]].value_counts())[0],list(df[name[5]].value_counts())[0],list(df[name[6]].value_counts())[0]]"
   ]
  },
  {
   "cell_type": "code",
   "execution_count": null,
   "id": "8148fdc2",
   "metadata": {},
   "outputs": [],
   "source": [
    "countn = [list(df[name[0]].value_counts())[1],list(df[name[1]].value_counts())[1],list(df[name[2]].value_counts())[1],list(df[name[3]].value_counts())[1],list(df[name[4]].value_counts())[1],list(df[name[5]].value_counts())[1],list(df[name[6]].value_counts())[1]]"
   ]
  },
  {
   "cell_type": "code",
   "execution_count": null,
   "id": "60c3227a",
   "metadata": {},
   "outputs": [],
   "source": [
    "name"
   ]
  },
  {
   "cell_type": "code",
   "execution_count": null,
   "id": "d6817587",
   "metadata": {},
   "outputs": [],
   "source": [
    "county"
   ]
  },
  {
   "cell_type": "code",
   "execution_count": null,
   "id": "7efeff11",
   "metadata": {},
   "outputs": [],
   "source": [
    "countn"
   ]
  },
  {
   "cell_type": "code",
   "execution_count": null,
   "id": "174c4480",
   "metadata": {},
   "outputs": [],
   "source": [
    "data = (name,county,countn)"
   ]
  },
  {
   "cell_type": "code",
   "execution_count": null,
   "id": "3fab9b6a",
   "metadata": {},
   "outputs": [],
   "source": [
    "m = []\n",
    "for i in range(len(name)):\n",
    "    m.append((name[i],county[i],countn[i]))\n",
    "print(m)"
   ]
  },
  {
   "cell_type": "code",
   "execution_count": null,
   "id": "2106d63b",
   "metadata": {
    "scrolled": true
   },
   "outputs": [],
   "source": [
    "curs.executemany('Insert into shark_tank values (%s,%s,%s)',m)"
   ]
  },
  {
   "cell_type": "code",
   "execution_count": null,
   "id": "cdbbd830",
   "metadata": {},
   "outputs": [],
   "source": [
    "db.commit()"
   ]
  },
  {
   "cell_type": "markdown",
   "id": "46bb8200",
   "metadata": {},
   "source": [
    "# Case 3"
   ]
  },
  {
   "cell_type": "code",
   "execution_count": null,
   "id": "67e4bb18",
   "metadata": {},
   "outputs": [],
   "source": [
    "n = df['Anupam']"
   ]
  },
  {
   "cell_type": "code",
   "execution_count": null,
   "id": "1a42b6f3",
   "metadata": {},
   "outputs": [],
   "source": [
    "n = n.replace('N',0)"
   ]
  },
  {
   "cell_type": "code",
   "execution_count": null,
   "id": "105a4d6e",
   "metadata": {},
   "outputs": [],
   "source": [
    "inv = df['Investment Amount (In Lakhs INR) '].values"
   ]
  },
  {
   "cell_type": "code",
   "execution_count": null,
   "id": "139f8063",
   "metadata": {},
   "outputs": [],
   "source": [
    "n= n.values"
   ]
  },
  {
   "cell_type": "code",
   "execution_count": null,
   "id": "9f2f3ead",
   "metadata": {},
   "outputs": [],
   "source": [
    "n2 = df['Ashneer'].replace('N',0).values\n",
    "n3 = df['Namita'].replace('N',0).values\n",
    "n4 = df['Aman'].replace('N',0).values\n",
    "n5 = df['Peyush'].replace('N',0).values\n",
    "n6 = df['Vineeta'].replace('N',0).values\n",
    "n7 = df['Ghazal'].replace('N',0).values"
   ]
  },
  {
   "cell_type": "code",
   "execution_count": null,
   "id": "6461df4e",
   "metadata": {},
   "outputs": [],
   "source": [
    "aray_lsit = [n,n2,n3,n4,n5,n6,n7]\n",
    "ne = []\n",
    "for x in aray_lsit:\n",
    "    x = np.array(x)\n",
    "    x = pd.Series(x)\n",
    "    x = x.replace('Y',1)\n",
    "    x = list(x.values)\n",
    "    ne.append(x)"
   ]
  },
  {
   "cell_type": "code",
   "execution_count": null,
   "id": "2f1c2a7c",
   "metadata": {},
   "outputs": [],
   "source": [
    "ne1 = ne[0]\n",
    "ne2 = ne[1]\n",
    "ne3 = ne[2]\n",
    "\n",
    "ne4 = ne[3]\n",
    "ne5 = ne[4]\n",
    "ne6 = ne[5]\n",
    "ne7 = ne[6]"
   ]
  },
  {
   "cell_type": "code",
   "execution_count": null,
   "id": "bcefa7b3",
   "metadata": {},
   "outputs": [],
   "source": [
    "ne1_ = []\n",
    "for i in ne1:\n",
    "    i = float(i)\n",
    "    ne1_.append(i)"
   ]
  },
  {
   "cell_type": "code",
   "execution_count": null,
   "id": "16c196ef",
   "metadata": {},
   "outputs": [],
   "source": [
    "ne2_ = []\n",
    "for i in ne2:\n",
    "    i = float(i)\n",
    "    ne2_.append(i)\n",
    "ne3_ = []\n",
    "for i in ne3:\n",
    "    i = float(i)\n",
    "    ne3_.append(i)\n",
    "ne4_ = []\n",
    "for i in ne4:\n",
    "    i = float(i)\n",
    "    ne4_.append(i)\n",
    "ne5_ = []\n",
    "for i in ne5:\n",
    "    i = float(i)\n",
    "    ne5_.append(i)\n",
    "ne6_ = []\n",
    "for i in ne6:\n",
    "    i = float(i)\n",
    "    ne6_.append(i)\n",
    "ne7_ = []\n",
    "for i in ne7:\n",
    "    i = float(i)\n",
    "    ne7_.append(i)\n"
   ]
  },
  {
   "cell_type": "code",
   "execution_count": null,
   "id": "6f015c36",
   "metadata": {},
   "outputs": [],
   "source": [
    "last = []\n",
    "z = []\n",
    "for i in zip(ne1_,ne2_,ne3_,ne4_,ne5_,ne6_,ne7_):\n",
    "    z.append(sum(i))\n",
    "for j in range(len(df['Investment Amount (In Lakhs INR) '])):\n",
    "    last.append(df['Investment Amount (In Lakhs INR) '][j]/z[j])\n",
    "\n",
    "    "
   ]
  },
  {
   "cell_type": "code",
   "execution_count": null,
   "id": "8050d719",
   "metadata": {},
   "outputs": [],
   "source": [
    "len(z)"
   ]
  },
  {
   "cell_type": "code",
   "execution_count": null,
   "id": "3feec80c",
   "metadata": {},
   "outputs": [],
   "source": [
    "len(last)"
   ]
  },
  {
   "cell_type": "code",
   "execution_count": null,
   "id": "088a856f",
   "metadata": {},
   "outputs": [],
   "source": [
    "117*117"
   ]
  },
  {
   "cell_type": "code",
   "execution_count": null,
   "id": "54e3d8b4",
   "metadata": {},
   "outputs": [],
   "source": [
    "df['investment'] = last"
   ]
  },
  {
   "cell_type": "code",
   "execution_count": null,
   "id": "c96ac34f",
   "metadata": {},
   "outputs": [],
   "source": [
    "df = df.fillna(0)"
   ]
  },
  {
   "cell_type": "code",
   "execution_count": null,
   "id": "80a8b20e",
   "metadata": {},
   "outputs": [],
   "source": [
    "for i in df:\n",
    "    for j in range(dhttp://localhost:8888/notebooks/Shark%20tank.ipynb#f.shape[0]):\n",
    "        if df[i][j] == 'Y':\n",
    "            df[i][j] = df['investment'][j]"
   ]
  },
  {
   "cell_type": "code",
   "execution_count": null,
   "id": "bd809fa3",
   "metadata": {},
   "outputs": [],
   "source": [
    "df = df.replace('N',0)"
   ]
  },
  {
   "cell_type": "code",
   "execution_count": null,
   "id": "11fa73c6",
   "metadata": {},
   "outputs": [],
   "source": [
    "df"
   ]
  },
  {
   "cell_type": "code",
   "execution_count": null,
   "id": "a4e67e1d",
   "metadata": {},
   "outputs": [],
   "source": [
    "df.columns"
   ]
  },
  {
   "cell_type": "code",
   "execution_count": null,
   "id": "0fd78f9b",
   "metadata": {},
   "outputs": [],
   "source": [
    "df_ = df.drop(columns = ['Episode Number', 'Pitch Number', 'Brand', 'Idea',\n",
    "       'Investment Amount (In Lakhs INR) ', 'Debt (In lakhs INR)', 'Equity'])"
   ]
  },
  {
   "cell_type": "code",
   "execution_count": null,
   "id": "9d205fa3",
   "metadata": {},
   "outputs": [],
   "source": [
    "total = []\n",
    "for i in df_:\n",
    "    total.append(sum(df[i].values))\n",
    "    \n",
    "    "
   ]
  },
  {
   "cell_type": "code",
   "execution_count": null,
   "id": "e2829ce6",
   "metadata": {},
   "outputs": [],
   "source": [
    "total"
   ]
  },
  {
   "cell_type": "code",
   "execution_count": null,
   "id": "d452dba6",
   "metadata": {},
   "outputs": [],
   "source": [
    "db_ = mysql.connector.connect(host = 'localhost',user = 'root',password = 'Emmabhi@15', database = 'newdatabase')"
   ]
  },
  {
   "cell_type": "code",
   "execution_count": null,
   "id": "3293a0a0",
   "metadata": {},
   "outputs": [],
   "source": [
    "c = db_.cursor()"
   ]
  },
  {
   "cell_type": "code",
   "execution_count": null,
   "id": "7b268fdd",
   "metadata": {},
   "outputs": [],
   "source": [
    "c.execute('Create table shark_tank_ (Name_of_shark varchar(30), total_invested_amount varchar(20));')"
   ]
  },
  {
   "cell_type": "code",
   "execution_count": null,
   "id": "8d843f3c",
   "metadata": {},
   "outputs": [],
   "source": [
    "out = []\n",
    "for i in range(len(name)):\n",
    "    out.append((name[i],total[i]))\n",
    "print(out)"
   ]
  },
  {
   "cell_type": "code",
   "execution_count": null,
   "id": "dba3dd8d",
   "metadata": {},
   "outputs": [],
   "source": [
    "curs.executemany('Insert into shark_tank_ values (%s,%s)',out)"
   ]
  }
 ],
 "metadata": {
  "kernelspec": {
   "display_name": "Python 3 (ipykernel)",
   "language": "python",
   "name": "python3"
  },
  "language_info": {
   "codemirror_mode": {
    "name": "ipython",
    "version": 3
   },
   "file_extension": ".py",
   "mimetype": "text/x-python",
   "name": "python",
   "nbconvert_exporter": "python",
   "pygments_lexer": "ipython3",
   "version": "3.8.8"
  }
 },
 "nbformat": 4,
 "nbformat_minor": 5
}
