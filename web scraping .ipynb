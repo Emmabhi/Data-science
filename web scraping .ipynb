{
 "cells": [
  {
   "cell_type": "code",
   "execution_count": null,
   "id": "5759d3ad",
   "metadata": {},
   "outputs": [],
   "source": [
    "pip install BeautifulSoup4"
   ]
  },
  {
   "cell_type": "code",
   "execution_count": null,
   "id": "65e6462b",
   "metadata": {},
   "outputs": [],
   "source": [
    "pip install requests"
   ]
  },
  {
   "cell_type": "code",
   "execution_count": null,
   "id": "7571048c",
   "metadata": {},
   "outputs": [],
   "source": [
    "import sys\n",
    "import time\n",
    "import requests\n",
    "from bs4 import BeautifulSoup as bs"
   ]
  },
  {
   "cell_type": "code",
   "execution_count": null,
   "id": "95cf5084",
   "metadata": {},
   "outputs": [],
   "source": [
    "# url \n",
    "url = \"https://nitsri.ac.in/\""
   ]
  },
  {
   "cell_type": "code",
   "execution_count": null,
   "id": "adb6b7d8",
   "metadata": {},
   "outputs": [],
   "source": [
    "# response from request \n",
    "response = requests.get(url)"
   ]
  },
  {
   "cell_type": "code",
   "execution_count": null,
   "id": "e67e1bcf",
   "metadata": {},
   "outputs": [],
   "source": [
    "# if response is 200 we can do scrapping\n",
    "response.status_code"
   ]
  },
  {
   "cell_type": "code",
   "execution_count": null,
   "id": "9eff15a5",
   "metadata": {},
   "outputs": [],
   "source": [
    "# coding of webpage\n",
    "response.content"
   ]
  },
  {
   "cell_type": "code",
   "execution_count": null,
   "id": "31dc4263",
   "metadata": {},
   "outputs": [],
   "source": [
    "# creating soup\n",
    "soup = bs(response.content,'html.parser')"
   ]
  },
  {
   "cell_type": "code",
   "execution_count": null,
   "id": "56927f09",
   "metadata": {},
   "outputs": [],
   "source": [
    "# printing soup in a better way\n",
    "print(soup.prettify())"
   ]
  },
  {
   "cell_type": "code",
   "execution_count": null,
   "id": "f181d5b5",
   "metadata": {},
   "outputs": [],
   "source": [
    "# getting title\n",
    "soup.title"
   ]
  },
  {
   "cell_type": "code",
   "execution_count": null,
   "id": "276f4baf",
   "metadata": {},
   "outputs": [],
   "source": [
    "# getting only string\n",
    "print(soup.title.string)"
   ]
  },
  {
   "cell_type": "code",
   "execution_count": null,
   "id": "edb35038",
   "metadata": {},
   "outputs": [],
   "source": [
    "# getting paragraph\n",
    "soup.p"
   ]
  },
  {
   "cell_type": "code",
   "execution_count": null,
   "id": "d9bb90c2",
   "metadata": {},
   "outputs": [],
   "source": [
    "# getting links\n",
    "soup.a"
   ]
  },
  {
   "cell_type": "code",
   "execution_count": null,
   "id": "30e6de4d",
   "metadata": {},
   "outputs": [],
   "source": [
    "# getting tables\n",
    "soup.tables"
   ]
  },
  {
   "cell_type": "code",
   "execution_count": null,
   "id": "6f040c6d",
   "metadata": {},
   "outputs": [],
   "source": [
    "# finding 1 st link,para anything\n",
    "soup.find('a')"
   ]
  },
  {
   "cell_type": "code",
   "execution_count": null,
   "id": "1349cc9a",
   "metadata": {},
   "outputs": [],
   "source": [
    "# finding all\n",
    "soup.find_all('a')"
   ]
  },
  {
   "cell_type": "code",
   "execution_count": null,
   "id": "1dc6f6ae",
   "metadata": {},
   "outputs": [],
   "source": [
    "# getting only text\n",
    "soup.get_text()"
   ]
  },
  {
   "cell_type": "code",
   "execution_count": null,
   "id": "3f733043",
   "metadata": {},
   "outputs": [],
   "source": [
    "# getting any particular portion in any tag\n",
    "soup.a.get('href')"
   ]
  },
  {
   "cell_type": "code",
   "execution_count": null,
   "id": "2205bade",
   "metadata": {},
   "outputs": [],
   "source": [
    "soup.img.get('src')"
   ]
  },
  {
   "cell_type": "code",
   "execution_count": null,
   "id": "5b12ebb0",
   "metadata": {},
   "outputs": [],
   "source": [
    "# getting any particular class or id \n",
    "soup.find_all('img',attrs={'class':'kingster-mobile-menu-right'})"
   ]
  },
  {
   "cell_type": "code",
   "execution_count": null,
   "id": "0b5dc08e",
   "metadata": {},
   "outputs": [],
   "source": []
  }
 ],
 "metadata": {
  "kernelspec": {
   "display_name": "Python 3 (ipykernel)",
   "language": "python",
   "name": "python3"
  },
  "language_info": {
   "codemirror_mode": {
    "name": "ipython",
    "version": 3
   },
   "file_extension": ".py",
   "mimetype": "text/x-python",
   "name": "python",
   "nbconvert_exporter": "python",
   "pygments_lexer": "ipython3",
   "version": "3.8.8"
  }
 },
 "nbformat": 4,
 "nbformat_minor": 5
}
