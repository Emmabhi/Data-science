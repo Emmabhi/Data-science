{
 "cells": [
  {
   "cell_type": "code",
   "execution_count": 1,
   "id": "4945b09c",
   "metadata": {},
   "outputs": [],
   "source": [
    "import numpy as np\n",
    "import pandas as pd\n",
    "import tensorflow as tf\n",
    "import matplotlib.pyplot as plt\n",
    "from tensorflow import keras"
   ]
  },
  {
   "cell_type": "code",
   "execution_count": 2,
   "id": "d3e84f13",
   "metadata": {},
   "outputs": [],
   "source": [
    "%matplotlib inline"
   ]
  },
  {
   "cell_type": "code",
   "execution_count": 3,
   "id": "d943b25c",
   "metadata": {},
   "outputs": [],
   "source": [
    "df = pd.read_csv('WA_Fn-UseC_-Telco-Customer-Churn.csv')"
   ]
  },
  {
   "cell_type": "code",
   "execution_count": 4,
   "id": "86d537b7",
   "metadata": {},
   "outputs": [
    {
     "data": {
      "text/html": [
       "<div>\n",
       "<style scoped>\n",
       "    .dataframe tbody tr th:only-of-type {\n",
       "        vertical-align: middle;\n",
       "    }\n",
       "\n",
       "    .dataframe tbody tr th {\n",
       "        vertical-align: top;\n",
       "    }\n",
       "\n",
       "    .dataframe thead th {\n",
       "        text-align: right;\n",
       "    }\n",
       "</style>\n",
       "<table border=\"1\" class=\"dataframe\">\n",
       "  <thead>\n",
       "    <tr style=\"text-align: right;\">\n",
       "      <th></th>\n",
       "      <th>customerID</th>\n",
       "      <th>gender</th>\n",
       "      <th>SeniorCitizen</th>\n",
       "      <th>Partner</th>\n",
       "      <th>Dependents</th>\n",
       "      <th>tenure</th>\n",
       "      <th>PhoneService</th>\n",
       "      <th>MultipleLines</th>\n",
       "      <th>InternetService</th>\n",
       "      <th>OnlineSecurity</th>\n",
       "      <th>...</th>\n",
       "      <th>DeviceProtection</th>\n",
       "      <th>TechSupport</th>\n",
       "      <th>StreamingTV</th>\n",
       "      <th>StreamingMovies</th>\n",
       "      <th>Contract</th>\n",
       "      <th>PaperlessBilling</th>\n",
       "      <th>PaymentMethod</th>\n",
       "      <th>MonthlyCharges</th>\n",
       "      <th>TotalCharges</th>\n",
       "      <th>Churn</th>\n",
       "    </tr>\n",
       "  </thead>\n",
       "  <tbody>\n",
       "    <tr>\n",
       "      <th>0</th>\n",
       "      <td>7590-VHVEG</td>\n",
       "      <td>Female</td>\n",
       "      <td>0</td>\n",
       "      <td>Yes</td>\n",
       "      <td>No</td>\n",
       "      <td>1</td>\n",
       "      <td>No</td>\n",
       "      <td>No phone service</td>\n",
       "      <td>DSL</td>\n",
       "      <td>No</td>\n",
       "      <td>...</td>\n",
       "      <td>No</td>\n",
       "      <td>No</td>\n",
       "      <td>No</td>\n",
       "      <td>No</td>\n",
       "      <td>Month-to-month</td>\n",
       "      <td>Yes</td>\n",
       "      <td>Electronic check</td>\n",
       "      <td>29.85</td>\n",
       "      <td>29.85</td>\n",
       "      <td>No</td>\n",
       "    </tr>\n",
       "    <tr>\n",
       "      <th>1</th>\n",
       "      <td>5575-GNVDE</td>\n",
       "      <td>Male</td>\n",
       "      <td>0</td>\n",
       "      <td>No</td>\n",
       "      <td>No</td>\n",
       "      <td>34</td>\n",
       "      <td>Yes</td>\n",
       "      <td>No</td>\n",
       "      <td>DSL</td>\n",
       "      <td>Yes</td>\n",
       "      <td>...</td>\n",
       "      <td>Yes</td>\n",
       "      <td>No</td>\n",
       "      <td>No</td>\n",
       "      <td>No</td>\n",
       "      <td>One year</td>\n",
       "      <td>No</td>\n",
       "      <td>Mailed check</td>\n",
       "      <td>56.95</td>\n",
       "      <td>1889.5</td>\n",
       "      <td>No</td>\n",
       "    </tr>\n",
       "    <tr>\n",
       "      <th>2</th>\n",
       "      <td>3668-QPYBK</td>\n",
       "      <td>Male</td>\n",
       "      <td>0</td>\n",
       "      <td>No</td>\n",
       "      <td>No</td>\n",
       "      <td>2</td>\n",
       "      <td>Yes</td>\n",
       "      <td>No</td>\n",
       "      <td>DSL</td>\n",
       "      <td>Yes</td>\n",
       "      <td>...</td>\n",
       "      <td>No</td>\n",
       "      <td>No</td>\n",
       "      <td>No</td>\n",
       "      <td>No</td>\n",
       "      <td>Month-to-month</td>\n",
       "      <td>Yes</td>\n",
       "      <td>Mailed check</td>\n",
       "      <td>53.85</td>\n",
       "      <td>108.15</td>\n",
       "      <td>Yes</td>\n",
       "    </tr>\n",
       "    <tr>\n",
       "      <th>3</th>\n",
       "      <td>7795-CFOCW</td>\n",
       "      <td>Male</td>\n",
       "      <td>0</td>\n",
       "      <td>No</td>\n",
       "      <td>No</td>\n",
       "      <td>45</td>\n",
       "      <td>No</td>\n",
       "      <td>No phone service</td>\n",
       "      <td>DSL</td>\n",
       "      <td>Yes</td>\n",
       "      <td>...</td>\n",
       "      <td>Yes</td>\n",
       "      <td>Yes</td>\n",
       "      <td>No</td>\n",
       "      <td>No</td>\n",
       "      <td>One year</td>\n",
       "      <td>No</td>\n",
       "      <td>Bank transfer (automatic)</td>\n",
       "      <td>42.30</td>\n",
       "      <td>1840.75</td>\n",
       "      <td>No</td>\n",
       "    </tr>\n",
       "    <tr>\n",
       "      <th>4</th>\n",
       "      <td>9237-HQITU</td>\n",
       "      <td>Female</td>\n",
       "      <td>0</td>\n",
       "      <td>No</td>\n",
       "      <td>No</td>\n",
       "      <td>2</td>\n",
       "      <td>Yes</td>\n",
       "      <td>No</td>\n",
       "      <td>Fiber optic</td>\n",
       "      <td>No</td>\n",
       "      <td>...</td>\n",
       "      <td>No</td>\n",
       "      <td>No</td>\n",
       "      <td>No</td>\n",
       "      <td>No</td>\n",
       "      <td>Month-to-month</td>\n",
       "      <td>Yes</td>\n",
       "      <td>Electronic check</td>\n",
       "      <td>70.70</td>\n",
       "      <td>151.65</td>\n",
       "      <td>Yes</td>\n",
       "    </tr>\n",
       "  </tbody>\n",
       "</table>\n",
       "<p>5 rows × 21 columns</p>\n",
       "</div>"
      ],
      "text/plain": [
       "   customerID  gender  SeniorCitizen Partner Dependents  tenure PhoneService  \\\n",
       "0  7590-VHVEG  Female              0     Yes         No       1           No   \n",
       "1  5575-GNVDE    Male              0      No         No      34          Yes   \n",
       "2  3668-QPYBK    Male              0      No         No       2          Yes   \n",
       "3  7795-CFOCW    Male              0      No         No      45           No   \n",
       "4  9237-HQITU  Female              0      No         No       2          Yes   \n",
       "\n",
       "      MultipleLines InternetService OnlineSecurity  ... DeviceProtection  \\\n",
       "0  No phone service             DSL             No  ...               No   \n",
       "1                No             DSL            Yes  ...              Yes   \n",
       "2                No             DSL            Yes  ...               No   \n",
       "3  No phone service             DSL            Yes  ...              Yes   \n",
       "4                No     Fiber optic             No  ...               No   \n",
       "\n",
       "  TechSupport StreamingTV StreamingMovies        Contract PaperlessBilling  \\\n",
       "0          No          No              No  Month-to-month              Yes   \n",
       "1          No          No              No        One year               No   \n",
       "2          No          No              No  Month-to-month              Yes   \n",
       "3         Yes          No              No        One year               No   \n",
       "4          No          No              No  Month-to-month              Yes   \n",
       "\n",
       "               PaymentMethod MonthlyCharges  TotalCharges Churn  \n",
       "0           Electronic check          29.85         29.85    No  \n",
       "1               Mailed check          56.95        1889.5    No  \n",
       "2               Mailed check          53.85        108.15   Yes  \n",
       "3  Bank transfer (automatic)          42.30       1840.75    No  \n",
       "4           Electronic check          70.70        151.65   Yes  \n",
       "\n",
       "[5 rows x 21 columns]"
      ]
     },
     "execution_count": 4,
     "metadata": {},
     "output_type": "execute_result"
    }
   ],
   "source": [
    "df.head()"
   ]
  },
  {
   "cell_type": "code",
   "execution_count": 5,
   "id": "68af614d",
   "metadata": {},
   "outputs": [
    {
     "data": {
      "text/html": [
       "<div>\n",
       "<style scoped>\n",
       "    .dataframe tbody tr th:only-of-type {\n",
       "        vertical-align: middle;\n",
       "    }\n",
       "\n",
       "    .dataframe tbody tr th {\n",
       "        vertical-align: top;\n",
       "    }\n",
       "\n",
       "    .dataframe thead th {\n",
       "        text-align: right;\n",
       "    }\n",
       "</style>\n",
       "<table border=\"1\" class=\"dataframe\">\n",
       "  <thead>\n",
       "    <tr style=\"text-align: right;\">\n",
       "      <th></th>\n",
       "      <th>customerID</th>\n",
       "      <th>gender</th>\n",
       "      <th>SeniorCitizen</th>\n",
       "      <th>Partner</th>\n",
       "      <th>Dependents</th>\n",
       "      <th>tenure</th>\n",
       "      <th>PhoneService</th>\n",
       "      <th>MultipleLines</th>\n",
       "      <th>InternetService</th>\n",
       "      <th>OnlineSecurity</th>\n",
       "      <th>...</th>\n",
       "      <th>DeviceProtection</th>\n",
       "      <th>TechSupport</th>\n",
       "      <th>StreamingTV</th>\n",
       "      <th>StreamingMovies</th>\n",
       "      <th>Contract</th>\n",
       "      <th>PaperlessBilling</th>\n",
       "      <th>PaymentMethod</th>\n",
       "      <th>MonthlyCharges</th>\n",
       "      <th>TotalCharges</th>\n",
       "      <th>Churn</th>\n",
       "    </tr>\n",
       "  </thead>\n",
       "  <tbody>\n",
       "    <tr>\n",
       "      <th>907</th>\n",
       "      <td>0297-RBCSG</td>\n",
       "      <td>Male</td>\n",
       "      <td>0</td>\n",
       "      <td>No</td>\n",
       "      <td>No</td>\n",
       "      <td>19</td>\n",
       "      <td>Yes</td>\n",
       "      <td>No</td>\n",
       "      <td>DSL</td>\n",
       "      <td>No</td>\n",
       "      <td>...</td>\n",
       "      <td>No</td>\n",
       "      <td>Yes</td>\n",
       "      <td>No</td>\n",
       "      <td>Yes</td>\n",
       "      <td>One year</td>\n",
       "      <td>Yes</td>\n",
       "      <td>Bank transfer (automatic)</td>\n",
       "      <td>65.35</td>\n",
       "      <td>1231.85</td>\n",
       "      <td>No</td>\n",
       "    </tr>\n",
       "    <tr>\n",
       "      <th>4437</th>\n",
       "      <td>3716-LRGXK</td>\n",
       "      <td>Male</td>\n",
       "      <td>0</td>\n",
       "      <td>Yes</td>\n",
       "      <td>No</td>\n",
       "      <td>60</td>\n",
       "      <td>Yes</td>\n",
       "      <td>Yes</td>\n",
       "      <td>Fiber optic</td>\n",
       "      <td>No</td>\n",
       "      <td>...</td>\n",
       "      <td>Yes</td>\n",
       "      <td>No</td>\n",
       "      <td>Yes</td>\n",
       "      <td>Yes</td>\n",
       "      <td>Two year</td>\n",
       "      <td>No</td>\n",
       "      <td>Credit card (automatic)</td>\n",
       "      <td>101.15</td>\n",
       "      <td>6067.4</td>\n",
       "      <td>No</td>\n",
       "    </tr>\n",
       "    <tr>\n",
       "      <th>4129</th>\n",
       "      <td>3192-LNKRK</td>\n",
       "      <td>Male</td>\n",
       "      <td>0</td>\n",
       "      <td>Yes</td>\n",
       "      <td>Yes</td>\n",
       "      <td>34</td>\n",
       "      <td>Yes</td>\n",
       "      <td>No</td>\n",
       "      <td>Fiber optic</td>\n",
       "      <td>No</td>\n",
       "      <td>...</td>\n",
       "      <td>Yes</td>\n",
       "      <td>No</td>\n",
       "      <td>Yes</td>\n",
       "      <td>No</td>\n",
       "      <td>Month-to-month</td>\n",
       "      <td>Yes</td>\n",
       "      <td>Mailed check</td>\n",
       "      <td>84.05</td>\n",
       "      <td>2909.95</td>\n",
       "      <td>No</td>\n",
       "    </tr>\n",
       "    <tr>\n",
       "      <th>3002</th>\n",
       "      <td>9513-DXHDA</td>\n",
       "      <td>Male</td>\n",
       "      <td>0</td>\n",
       "      <td>No</td>\n",
       "      <td>No</td>\n",
       "      <td>27</td>\n",
       "      <td>Yes</td>\n",
       "      <td>No</td>\n",
       "      <td>DSL</td>\n",
       "      <td>Yes</td>\n",
       "      <td>...</td>\n",
       "      <td>Yes</td>\n",
       "      <td>Yes</td>\n",
       "      <td>Yes</td>\n",
       "      <td>Yes</td>\n",
       "      <td>One year</td>\n",
       "      <td>No</td>\n",
       "      <td>Electronic check</td>\n",
       "      <td>81.70</td>\n",
       "      <td>2212.55</td>\n",
       "      <td>No</td>\n",
       "    </tr>\n",
       "    <tr>\n",
       "      <th>5845</th>\n",
       "      <td>4581-SSPWD</td>\n",
       "      <td>Female</td>\n",
       "      <td>0</td>\n",
       "      <td>No</td>\n",
       "      <td>No</td>\n",
       "      <td>3</td>\n",
       "      <td>Yes</td>\n",
       "      <td>Yes</td>\n",
       "      <td>Fiber optic</td>\n",
       "      <td>No</td>\n",
       "      <td>...</td>\n",
       "      <td>No</td>\n",
       "      <td>No</td>\n",
       "      <td>No</td>\n",
       "      <td>No</td>\n",
       "      <td>Month-to-month</td>\n",
       "      <td>Yes</td>\n",
       "      <td>Electronic check</td>\n",
       "      <td>75.80</td>\n",
       "      <td>246.3</td>\n",
       "      <td>Yes</td>\n",
       "    </tr>\n",
       "  </tbody>\n",
       "</table>\n",
       "<p>5 rows × 21 columns</p>\n",
       "</div>"
      ],
      "text/plain": [
       "      customerID  gender  SeniorCitizen Partner Dependents  tenure  \\\n",
       "907   0297-RBCSG    Male              0      No         No      19   \n",
       "4437  3716-LRGXK    Male              0     Yes         No      60   \n",
       "4129  3192-LNKRK    Male              0     Yes        Yes      34   \n",
       "3002  9513-DXHDA    Male              0      No         No      27   \n",
       "5845  4581-SSPWD  Female              0      No         No       3   \n",
       "\n",
       "     PhoneService MultipleLines InternetService OnlineSecurity  ...  \\\n",
       "907           Yes            No             DSL             No  ...   \n",
       "4437          Yes           Yes     Fiber optic             No  ...   \n",
       "4129          Yes            No     Fiber optic             No  ...   \n",
       "3002          Yes            No             DSL            Yes  ...   \n",
       "5845          Yes           Yes     Fiber optic             No  ...   \n",
       "\n",
       "     DeviceProtection TechSupport StreamingTV StreamingMovies        Contract  \\\n",
       "907                No         Yes          No             Yes        One year   \n",
       "4437              Yes          No         Yes             Yes        Two year   \n",
       "4129              Yes          No         Yes              No  Month-to-month   \n",
       "3002              Yes         Yes         Yes             Yes        One year   \n",
       "5845               No          No          No              No  Month-to-month   \n",
       "\n",
       "     PaperlessBilling              PaymentMethod MonthlyCharges  TotalCharges  \\\n",
       "907               Yes  Bank transfer (automatic)          65.35       1231.85   \n",
       "4437               No    Credit card (automatic)         101.15        6067.4   \n",
       "4129              Yes               Mailed check          84.05       2909.95   \n",
       "3002               No           Electronic check          81.70       2212.55   \n",
       "5845              Yes           Electronic check          75.80         246.3   \n",
       "\n",
       "     Churn  \n",
       "907     No  \n",
       "4437    No  \n",
       "4129    No  \n",
       "3002    No  \n",
       "5845   Yes  \n",
       "\n",
       "[5 rows x 21 columns]"
      ]
     },
     "execution_count": 5,
     "metadata": {},
     "output_type": "execute_result"
    }
   ],
   "source": [
    "df.sample(5)"
   ]
  },
  {
   "cell_type": "code",
   "execution_count": 6,
   "id": "ec02f657",
   "metadata": {},
   "outputs": [],
   "source": [
    "df.drop('customerID',axis ='columns',inplace=True)"
   ]
  },
  {
   "cell_type": "code",
   "execution_count": 7,
   "id": "9bcbf1d3",
   "metadata": {},
   "outputs": [
    {
     "data": {
      "text/plain": [
       "gender               object\n",
       "SeniorCitizen         int64\n",
       "Partner              object\n",
       "Dependents           object\n",
       "tenure                int64\n",
       "PhoneService         object\n",
       "MultipleLines        object\n",
       "InternetService      object\n",
       "OnlineSecurity       object\n",
       "OnlineBackup         object\n",
       "DeviceProtection     object\n",
       "TechSupport          object\n",
       "StreamingTV          object\n",
       "StreamingMovies      object\n",
       "Contract             object\n",
       "PaperlessBilling     object\n",
       "PaymentMethod        object\n",
       "MonthlyCharges      float64\n",
       "TotalCharges         object\n",
       "Churn                object\n",
       "dtype: object"
      ]
     },
     "execution_count": 7,
     "metadata": {},
     "output_type": "execute_result"
    }
   ],
   "source": [
    "df.dtypes"
   ]
  },
  {
   "cell_type": "code",
   "execution_count": 8,
   "id": "80b9848b",
   "metadata": {},
   "outputs": [
    {
     "data": {
      "text/plain": [
       "array(['29.85', '1889.5', '108.15', ..., '346.45', '306.6', '6844.5'],\n",
       "      dtype=object)"
      ]
     },
     "execution_count": 8,
     "metadata": {},
     "output_type": "execute_result"
    }
   ],
   "source": [
    "df.TotalCharges.values"
   ]
  },
  {
   "cell_type": "code",
   "execution_count": 9,
   "id": "1c9cc3c5",
   "metadata": {},
   "outputs": [
    {
     "data": {
      "text/plain": [
       "array([ 29.85,  56.95,  53.85, ...,  29.6 ,  74.4 , 105.65])"
      ]
     },
     "execution_count": 9,
     "metadata": {},
     "output_type": "execute_result"
    }
   ],
   "source": [
    "df.MonthlyCharges.values"
   ]
  },
  {
   "cell_type": "code",
   "execution_count": 10,
   "id": "9573d81e",
   "metadata": {},
   "outputs": [],
   "source": [
    "df['TotalCharges']=pd.to_numeric(df.TotalCharges , errors ='coerce')"
   ]
  },
  {
   "cell_type": "code",
   "execution_count": 11,
   "id": "49de190d",
   "metadata": {},
   "outputs": [
    {
     "data": {
      "text/plain": [
       "11"
      ]
     },
     "execution_count": 11,
     "metadata": {},
     "output_type": "execute_result"
    }
   ],
   "source": [
    "df.TotalCharges.isnull().sum()"
   ]
  },
  {
   "cell_type": "code",
   "execution_count": 12,
   "id": "a883834f",
   "metadata": {},
   "outputs": [
    {
     "data": {
      "text/plain": [
       "gender               0\n",
       "SeniorCitizen        0\n",
       "Partner              0\n",
       "Dependents           0\n",
       "tenure               0\n",
       "PhoneService         0\n",
       "MultipleLines        0\n",
       "InternetService      0\n",
       "OnlineSecurity       0\n",
       "OnlineBackup         0\n",
       "DeviceProtection     0\n",
       "TechSupport          0\n",
       "StreamingTV          0\n",
       "StreamingMovies      0\n",
       "Contract             0\n",
       "PaperlessBilling     0\n",
       "PaymentMethod        0\n",
       "MonthlyCharges       0\n",
       "TotalCharges        11\n",
       "Churn                0\n",
       "dtype: int64"
      ]
     },
     "execution_count": 12,
     "metadata": {},
     "output_type": "execute_result"
    }
   ],
   "source": [
    "df.isnull().sum()"
   ]
  },
  {
   "cell_type": "code",
   "execution_count": 13,
   "id": "d45cf43d",
   "metadata": {},
   "outputs": [],
   "source": [
    "df.dropna(inplace=True)"
   ]
  },
  {
   "cell_type": "code",
   "execution_count": 14,
   "id": "8c3a4263",
   "metadata": {},
   "outputs": [
    {
     "data": {
      "text/plain": [
       "gender              0\n",
       "SeniorCitizen       0\n",
       "Partner             0\n",
       "Dependents          0\n",
       "tenure              0\n",
       "PhoneService        0\n",
       "MultipleLines       0\n",
       "InternetService     0\n",
       "OnlineSecurity      0\n",
       "OnlineBackup        0\n",
       "DeviceProtection    0\n",
       "TechSupport         0\n",
       "StreamingTV         0\n",
       "StreamingMovies     0\n",
       "Contract            0\n",
       "PaperlessBilling    0\n",
       "PaymentMethod       0\n",
       "MonthlyCharges      0\n",
       "TotalCharges        0\n",
       "Churn               0\n",
       "dtype: int64"
      ]
     },
     "execution_count": 14,
     "metadata": {},
     "output_type": "execute_result"
    }
   ],
   "source": [
    "df.isnull().sum()"
   ]
  },
  {
   "cell_type": "code",
   "execution_count": 15,
   "id": "00c0e890",
   "metadata": {},
   "outputs": [
    {
     "data": {
      "text/plain": [
       "gender               object\n",
       "SeniorCitizen         int64\n",
       "Partner              object\n",
       "Dependents           object\n",
       "tenure                int64\n",
       "PhoneService         object\n",
       "MultipleLines        object\n",
       "InternetService      object\n",
       "OnlineSecurity       object\n",
       "OnlineBackup         object\n",
       "DeviceProtection     object\n",
       "TechSupport          object\n",
       "StreamingTV          object\n",
       "StreamingMovies      object\n",
       "Contract             object\n",
       "PaperlessBilling     object\n",
       "PaymentMethod        object\n",
       "MonthlyCharges      float64\n",
       "TotalCharges        float64\n",
       "Churn                object\n",
       "dtype: object"
      ]
     },
     "execution_count": 15,
     "metadata": {},
     "output_type": "execute_result"
    }
   ],
   "source": [
    "df.dtypes"
   ]
  },
  {
   "cell_type": "code",
   "execution_count": 16,
   "id": "2d85b68f",
   "metadata": {},
   "outputs": [],
   "source": [
    "tenure_churn_no = df[df.Churn == 'No'].tenure\n",
    "tenure_churn_yes = df[df.Churn == 'Yes'].tenure"
   ]
  },
  {
   "cell_type": "code",
   "execution_count": 17,
   "id": "b1dbe919",
   "metadata": {},
   "outputs": [
    {
     "data": {
      "image/png": "[encoded data removed]",
      "text/plain": [
       "<Figure size 432x288 with 1 Axes>"
      ]
     },
     "metadata": {
      "needs_background": "light"
     },
     "output_type": "display_data"
    }
   ],
   "source": [
    "plt.hist([tenure_churn_no,tenure_churn_yes],color=['black','blue'],label=['Not LEaving','Leaving'])\n",
    "plt.title('Tenure vs Churn')\n",
    "plt.xlabel('Tenure')\n",
    "plt.ylabel('Number of Customers')\n",
    "plt.legend()\n",
    "plt.show()"
   ]
  },
  {
   "cell_type": "code",
   "execution_count": 18,
   "id": "69c6f76d",
   "metadata": {},
   "outputs": [
    {
     "data": {
      "image/png": "[encoded data removed]",
      "text/plain": [
       "<Figure size 432x288 with 1 Axes>"
      ]
     },
     "metadata": {
      "needs_background": "light"
     },
     "output_type": "display_data"
    }
   ],
   "source": [
    "mc_churn_no = df[df.Churn == 'No'].MonthlyCharges\n",
    "mc_churn_yes = df[df.Churn == 'Yes'].MonthlyCharges\n",
    "\n",
    "plt.hist([mc_churn_no,mc_churn_yes],color= ['red','yellow'],label=['Not leaving','leaving'])\n",
    "plt.legend()\n",
    "plt.title('Monthly Charges vs Churn')\n",
    "plt.xlabel('Monthly charges')\n",
    "plt.ylabel('number of customers')\n",
    "plt.show()"
   ]
  },
  {
   "cell_type": "code",
   "execution_count": 19,
   "id": "2f2c1982",
   "metadata": {},
   "outputs": [],
   "source": [
    "def print_unique_values(df):\n",
    "    for columns in df:\n",
    "        if df[columns].dtypes == 'object':\n",
    "            print(f'{columns}:{df[columns].unique()}')"
   ]
  },
  {
   "cell_type": "code",
   "execution_count": 20,
   "id": "449eae59",
   "metadata": {},
   "outputs": [
    {
     "name": "stdout",
     "output_type": "stream",
     "text": [
      "gender:['Female' 'Male']\n",
      "Partner:['Yes' 'No']\n",
      "Dependents:['No' 'Yes']\n",
      "PhoneService:['No' 'Yes']\n",
      "MultipleLines:['No phone service' 'No' 'Yes']\n",
      "InternetService:['DSL' 'Fiber optic' 'No']\n",
      "OnlineSecurity:['No' 'Yes' 'No internet service']\n",
      "OnlineBackup:['Yes' 'No' 'No internet service']\n",
      "DeviceProtection:['No' 'Yes' 'No internet service']\n",
      "TechSupport:['No' 'Yes' 'No internet service']\n",
      "StreamingTV:['No' 'Yes' 'No internet service']\n",
      "StreamingMovies:['No' 'Yes' 'No internet service']\n",
      "Contract:['Month-to-month' 'One year' 'Two year']\n",
      "PaperlessBilling:['Yes' 'No']\n",
      "PaymentMethod:['Electronic check' 'Mailed check' 'Bank transfer (automatic)'\n",
      " 'Credit card (automatic)']\n",
      "Churn:['No' 'Yes']\n"
     ]
    }
   ],
   "source": [
    "print_unique_values(df)"
   ]
  },
  {
   "cell_type": "code",
   "execution_count": 21,
   "id": "adff6487",
   "metadata": {},
   "outputs": [],
   "source": [
    "df.replace('No internet service','No',inplace = True)"
   ]
  },
  {
   "cell_type": "code",
   "execution_count": 22,
   "id": "f0101dd1",
   "metadata": {},
   "outputs": [],
   "source": [
    "df.replace('No phone service','No',inplace = True)"
   ]
  },
  {
   "cell_type": "code",
   "execution_count": 23,
   "id": "4de6e02c",
   "metadata": {},
   "outputs": [
    {
     "name": "stdout",
     "output_type": "stream",
     "text": [
      "gender:['Female' 'Male']\n",
      "Partner:['Yes' 'No']\n",
      "Dependents:['No' 'Yes']\n",
      "PhoneService:['No' 'Yes']\n",
      "MultipleLines:['No' 'Yes']\n",
      "InternetService:['DSL' 'Fiber optic' 'No']\n",
      "OnlineSecurity:['No' 'Yes']\n",
      "OnlineBackup:['Yes' 'No']\n",
      "DeviceProtection:['No' 'Yes']\n",
      "TechSupport:['No' 'Yes']\n",
      "StreamingTV:['No' 'Yes']\n",
      "StreamingMovies:['No' 'Yes']\n",
      "Contract:['Month-to-month' 'One year' 'Two year']\n",
      "PaperlessBilling:['Yes' 'No']\n",
      "PaymentMethod:['Electronic check' 'Mailed check' 'Bank transfer (automatic)'\n",
      " 'Credit card (automatic)']\n",
      "Churn:['No' 'Yes']\n"
     ]
    }
   ],
   "source": [
    "print_unique_values(df)"
   ]
  },
  {
   "cell_type": "code",
   "execution_count": 24,
   "id": "635d242e",
   "metadata": {},
   "outputs": [],
   "source": [
    "yes_no_columns = ['Partner','Dependents','PhoneService','MultipleLines','OnlineSecurity','OnlineBackup','DeviceProtection'\n",
    "                 ,'TechSupport','StreamingTV','StreamingMovies','PaperlessBilling','Churn']"
   ]
  },
  {
   "cell_type": "code",
   "execution_count": 25,
   "id": "070d6c66",
   "metadata": {},
   "outputs": [],
   "source": [
    "for col in yes_no_columns:\n",
    "    df[col].replace({'Yes':1,'No':0},inplace=True)"
   ]
  },
  {
   "cell_type": "code",
   "execution_count": 26,
   "id": "15ba2069",
   "metadata": {},
   "outputs": [
    {
     "name": "stdout",
     "output_type": "stream",
     "text": [
      "gender:['Female' 'Male']\n",
      "InternetService:['DSL' 'Fiber optic' 'No']\n",
      "Contract:['Month-to-month' 'One year' 'Two year']\n",
      "PaymentMethod:['Electronic check' 'Mailed check' 'Bank transfer (automatic)'\n",
      " 'Credit card (automatic)']\n"
     ]
    }
   ],
   "source": [
    "print_unique_values(df)"
   ]
  },
  {
   "cell_type": "code",
   "execution_count": 27,
   "id": "90f9f39b",
   "metadata": {},
   "outputs": [],
   "source": [
    "df['gender'].replace({'Female':0,'Male':1},inplace = True)"
   ]
  },
  {
   "cell_type": "code",
   "execution_count": 28,
   "id": "2940b001",
   "metadata": {},
   "outputs": [],
   "source": [
    "df1 = pd.get_dummies(data=df,columns =['InternetService','Contract','PaymentMethod'])\n"
   ]
  },
  {
   "cell_type": "code",
   "execution_count": 29,
   "id": "78a13bf9",
   "metadata": {},
   "outputs": [],
   "source": [
    "import sklearn\n",
    "from sklearn.preprocessing import MinMaxScaler"
   ]
  },
  {
   "cell_type": "code",
   "execution_count": 30,
   "id": "25e92f39",
   "metadata": {},
   "outputs": [],
   "source": [
    "sc = MinMaxScaler()"
   ]
  },
  {
   "cell_type": "code",
   "execution_count": 31,
   "id": "21662131",
   "metadata": {},
   "outputs": [
    {
     "data": {
      "text/plain": [
       "(7032, 27)"
      ]
     },
     "execution_count": 31,
     "metadata": {},
     "output_type": "execute_result"
    }
   ],
   "source": [
    "df1.shape"
   ]
  },
  {
   "cell_type": "code",
   "execution_count": 32,
   "id": "92dfd896",
   "metadata": {},
   "outputs": [],
   "source": [
    "scale = ['tenure','MonthlyCharges','TotalCharges']"
   ]
  },
  {
   "cell_type": "code",
   "execution_count": 33,
   "id": "d1b5f6ab",
   "metadata": {},
   "outputs": [],
   "source": [
    "df1[scale] = sc.fit_transform(df1[scale])"
   ]
  },
  {
   "cell_type": "code",
   "execution_count": 34,
   "id": "d6f21703",
   "metadata": {},
   "outputs": [
    {
     "data": {
      "text/html": [
       "<div>\n",
       "<style scoped>\n",
       "    .dataframe tbody tr th:only-of-type {\n",
       "        vertical-align: middle;\n",
       "    }\n",
       "\n",
       "    .dataframe tbody tr th {\n",
       "        vertical-align: top;\n",
       "    }\n",
       "\n",
       "    .dataframe thead th {\n",
       "        text-align: right;\n",
       "    }\n",
       "</style>\n",
       "<table border=\"1\" class=\"dataframe\">\n",
       "  <thead>\n",
       "    <tr style=\"text-align: right;\">\n",
       "      <th></th>\n",
       "      <th>gender</th>\n",
       "      <th>SeniorCitizen</th>\n",
       "      <th>Partner</th>\n",
       "      <th>Dependents</th>\n",
       "      <th>tenure</th>\n",
       "      <th>PhoneService</th>\n",
       "      <th>MultipleLines</th>\n",
       "      <th>OnlineSecurity</th>\n",
       "      <th>OnlineBackup</th>\n",
       "      <th>DeviceProtection</th>\n",
       "      <th>...</th>\n",
       "      <th>InternetService_DSL</th>\n",
       "      <th>InternetService_Fiber optic</th>\n",
       "      <th>InternetService_No</th>\n",
       "      <th>Contract_Month-to-month</th>\n",
       "      <th>Contract_One year</th>\n",
       "      <th>Contract_Two year</th>\n",
       "      <th>PaymentMethod_Bank transfer (automatic)</th>\n",
       "      <th>PaymentMethod_Credit card (automatic)</th>\n",
       "      <th>PaymentMethod_Electronic check</th>\n",
       "      <th>PaymentMethod_Mailed check</th>\n",
       "    </tr>\n",
       "  </thead>\n",
       "  <tbody>\n",
       "    <tr>\n",
       "      <th>4632</th>\n",
       "      <td>0</td>\n",
       "      <td>0</td>\n",
       "      <td>1</td>\n",
       "      <td>1</td>\n",
       "      <td>0.000000</td>\n",
       "      <td>1</td>\n",
       "      <td>0</td>\n",
       "      <td>0</td>\n",
       "      <td>0</td>\n",
       "      <td>0</td>\n",
       "      <td>...</td>\n",
       "      <td>0</td>\n",
       "      <td>0</td>\n",
       "      <td>1</td>\n",
       "      <td>1</td>\n",
       "      <td>0</td>\n",
       "      <td>0</td>\n",
       "      <td>0</td>\n",
       "      <td>0</td>\n",
       "      <td>0</td>\n",
       "      <td>1</td>\n",
       "    </tr>\n",
       "    <tr>\n",
       "      <th>5845</th>\n",
       "      <td>0</td>\n",
       "      <td>0</td>\n",
       "      <td>0</td>\n",
       "      <td>0</td>\n",
       "      <td>0.028169</td>\n",
       "      <td>1</td>\n",
       "      <td>1</td>\n",
       "      <td>0</td>\n",
       "      <td>0</td>\n",
       "      <td>0</td>\n",
       "      <td>...</td>\n",
       "      <td>0</td>\n",
       "      <td>1</td>\n",
       "      <td>0</td>\n",
       "      <td>1</td>\n",
       "      <td>0</td>\n",
       "      <td>0</td>\n",
       "      <td>0</td>\n",
       "      <td>0</td>\n",
       "      <td>1</td>\n",
       "      <td>0</td>\n",
       "    </tr>\n",
       "  </tbody>\n",
       "</table>\n",
       "<p>2 rows × 27 columns</p>\n",
       "</div>"
      ],
      "text/plain": [
       "      gender  SeniorCitizen  Partner  Dependents    tenure  PhoneService  \\\n",
       "4632       0              0        1           1  0.000000             1   \n",
       "5845       0              0        0           0  0.028169             1   \n",
       "\n",
       "      MultipleLines  OnlineSecurity  OnlineBackup  DeviceProtection  ...  \\\n",
       "4632              0               0             0                 0  ...   \n",
       "5845              1               0             0                 0  ...   \n",
       "\n",
       "      InternetService_DSL  InternetService_Fiber optic  InternetService_No  \\\n",
       "4632                    0                            0                   1   \n",
       "5845                    0                            1                   0   \n",
       "\n",
       "      Contract_Month-to-month  Contract_One year  Contract_Two year  \\\n",
       "4632                        1                  0                  0   \n",
       "5845                        1                  0                  0   \n",
       "\n",
       "      PaymentMethod_Bank transfer (automatic)  \\\n",
       "4632                                        0   \n",
       "5845                                        0   \n",
       "\n",
       "      PaymentMethod_Credit card (automatic)  PaymentMethod_Electronic check  \\\n",
       "4632                                      0                               0   \n",
       "5845                                      0                               1   \n",
       "\n",
       "      PaymentMethod_Mailed check  \n",
       "4632                           1  \n",
       "5845                           0  \n",
       "\n",
       "[2 rows x 27 columns]"
      ]
     },
     "execution_count": 34,
     "metadata": {},
     "output_type": "execute_result"
    }
   ],
   "source": [
    "df1.sample(2)"
   ]
  },
  {
   "cell_type": "code",
   "execution_count": 36,
   "id": "e2f34ef7",
   "metadata": {},
   "outputs": [],
   "source": [
    "x = df1.drop(columns='Churn',axis='columns')\n",
    "y = df1['Churn']"
   ]
  },
  {
   "cell_type": "code",
   "execution_count": 37,
   "id": "ea3eeca3",
   "metadata": {},
   "outputs": [],
   "source": [
    "from sklearn.model_selection import train_test_split\n",
    "x_train,x_test,y_train,y_test = train_test_split(x,y,test_size = 0.2,random_state = 0)"
   ]
  },
  {
   "cell_type": "code",
   "execution_count": 38,
   "id": "4be43f64",
   "metadata": {},
   "outputs": [
    {
     "data": {
      "text/plain": [
       "(5625, 26)"
      ]
     },
     "execution_count": 38,
     "metadata": {},
     "output_type": "execute_result"
    }
   ],
   "source": [
    "x_train.shape"
   ]
  },
  {
   "cell_type": "code",
   "execution_count": 39,
   "id": "e7890985",
   "metadata": {},
   "outputs": [
    {
     "data": {
      "text/plain": [
       "(1407, 26)"
      ]
     },
     "execution_count": 39,
     "metadata": {},
     "output_type": "execute_result"
    }
   ],
   "source": [
    "x_test.shape"
   ]
  },
  {
   "cell_type": "code",
   "execution_count": 40,
   "id": "49927679",
   "metadata": {},
   "outputs": [],
   "source": [
    "import tensorflow as tf\n",
    "from tensorflow import keras"
   ]
  },
  {
   "cell_type": "code",
   "execution_count": 44,
   "id": "8ba23c73",
   "metadata": {},
   "outputs": [
    {
     "name": "stdout",
     "output_type": "stream",
     "text": [
      "Epoch 1/200\n",
      "176/176 [==============================] - 0s 790us/step - loss: 0.5414 - accuracy: 0.7076\n",
      "Epoch 2/200\n",
      "176/176 [==============================] - 0s 835us/step - loss: 0.4363 - accuracy: 0.7936\n",
      "Epoch 3/200\n",
      "176/176 [==============================] - 0s 915us/step - loss: 0.4252 - accuracy: 0.7973\n",
      "Epoch 4/200\n",
      "176/176 [==============================] - 0s 1ms/step - loss: 0.4207 - accuracy: 0.8011\n",
      "Epoch 5/200\n",
      "176/176 [==============================] - 0s 886us/step - loss: 0.4187 - accuracy: 0.8007\n",
      "Epoch 6/200\n",
      "176/176 [==============================] - 0s 835us/step - loss: 0.4165 - accuracy: 0.8021\n",
      "Epoch 7/200\n",
      "176/176 [==============================] - 0s 852us/step - loss: 0.4149 - accuracy: 0.8018\n",
      "Epoch 8/200\n",
      "176/176 [==============================] - 0s 892us/step - loss: 0.4135 - accuracy: 0.8041\n",
      "Epoch 9/200\n",
      "176/176 [==============================] - 0s 875us/step - loss: 0.4117 - accuracy: 0.8028\n",
      "Epoch 10/200\n",
      "176/176 [==============================] - 0s 886us/step - loss: 0.4112 - accuracy: 0.8043\n",
      "Epoch 11/200\n",
      "176/176 [==============================] - 0s 932us/step - loss: 0.4095 - accuracy: 0.8059\n",
      "Epoch 12/200\n",
      "176/176 [==============================] - 0s 915us/step - loss: 0.4085 - accuracy: 0.8060\n",
      "Epoch 13/200\n",
      "176/176 [==============================] - 0s 926us/step - loss: 0.4084 - accuracy: 0.8027\n",
      "Epoch 14/200\n",
      "176/176 [==============================] - 0s 915us/step - loss: 0.4070 - accuracy: 0.8034\n",
      "Epoch 15/200\n",
      "176/176 [==============================] - 0s 892us/step - loss: 0.4060 - accuracy: 0.8073\n",
      "Epoch 16/200\n",
      "176/176 [==============================] - 0s 915us/step - loss: 0.4052 - accuracy: 0.8068\n",
      "Epoch 17/200\n",
      "176/176 [==============================] - 0s 966us/step - loss: 0.4045 - accuracy: 0.8071\n",
      "Epoch 18/200\n",
      "176/176 [==============================] - 0s 898us/step - loss: 0.4043 - accuracy: 0.8084\n",
      "Epoch 19/200\n",
      "176/176 [==============================] - 0s 972us/step - loss: 0.4037 - accuracy: 0.8080\n",
      "Epoch 20/200\n",
      "176/176 [==============================] - 0s 977us/step - loss: 0.4023 - accuracy: 0.8076\n",
      "Epoch 21/200\n",
      "176/176 [==============================] - 0s 955us/step - loss: 0.4015 - accuracy: 0.8068\n",
      "Epoch 22/200\n",
      "176/176 [==============================] - 0s 949us/step - loss: 0.4017 - accuracy: 0.8100\n",
      "Epoch 23/200\n",
      "176/176 [==============================] - 0s 909us/step - loss: 0.4008 - accuracy: 0.8103\n",
      "Epoch 24/200\n",
      "176/176 [==============================] - 0s 943us/step - loss: 0.3997 - accuracy: 0.8101\n",
      "Epoch 25/200\n",
      "176/176 [==============================] - 0s 949us/step - loss: 0.4002 - accuracy: 0.8100\n",
      "Epoch 26/200\n",
      "176/176 [==============================] - 0s 977us/step - loss: 0.3998 - accuracy: 0.8101\n",
      "Epoch 27/200\n",
      "176/176 [==============================] - 0s 960us/step - loss: 0.3976 - accuracy: 0.8103\n",
      "Epoch 28/200\n",
      "176/176 [==============================] - 0s 966us/step - loss: 0.3974 - accuracy: 0.8114\n",
      "Epoch 29/200\n",
      "176/176 [==============================] - 0s 960us/step - loss: 0.3975 - accuracy: 0.8126\n",
      "Epoch 30/200\n",
      "176/176 [==============================] - 0s 932us/step - loss: 0.3961 - accuracy: 0.8121\n",
      "Epoch 31/200\n",
      "176/176 [==============================] - 0s 915us/step - loss: 0.3962 - accuracy: 0.8121\n",
      "Epoch 32/200\n",
      "176/176 [==============================] - 0s 909us/step - loss: 0.3953 - accuracy: 0.8112\n",
      "Epoch 33/200\n",
      "176/176 [==============================] - 0s 938us/step - loss: 0.3944 - accuracy: 0.8137\n",
      "Epoch 34/200\n",
      "176/176 [==============================] - 0s 932us/step - loss: 0.3941 - accuracy: 0.8119\n",
      "Epoch 35/200\n",
      "176/176 [==============================] - 0s 937us/step - loss: 0.3942 - accuracy: 0.8117\n",
      "Epoch 36/200\n",
      "176/176 [==============================] - 0s 903us/step - loss: 0.3925 - accuracy: 0.8148\n",
      "Epoch 37/200\n",
      "176/176 [==============================] - 0s 915us/step - loss: 0.3922 - accuracy: 0.8149\n",
      "Epoch 38/200\n",
      "176/176 [==============================] - 0s 898us/step - loss: 0.3926 - accuracy: 0.8121\n",
      "Epoch 39/200\n",
      "176/176 [==============================] - 0s 915us/step - loss: 0.3912 - accuracy: 0.8158\n",
      "Epoch 40/200\n",
      "176/176 [==============================] - 0s 932us/step - loss: 0.3907 - accuracy: 0.8183\n",
      "Epoch 41/200\n",
      "176/176 [==============================] - 0s 943us/step - loss: 0.3911 - accuracy: 0.8160\n",
      "Epoch 42/200\n",
      "176/176 [==============================] - 0s 898us/step - loss: 0.3898 - accuracy: 0.8171\n",
      "Epoch 43/200\n",
      "176/176 [==============================] - 0s 949us/step - loss: 0.3891 - accuracy: 0.8151\n",
      "Epoch 44/200\n",
      "176/176 [==============================] - 0s 909us/step - loss: 0.3896 - accuracy: 0.8155\n",
      "Epoch 45/200\n",
      "176/176 [==============================] - 0s 898us/step - loss: 0.3893 - accuracy: 0.8164\n",
      "Epoch 46/200\n",
      "176/176 [==============================] - 0s 881us/step - loss: 0.3884 - accuracy: 0.8178\n",
      "Epoch 47/200\n",
      "176/176 [==============================] - 0s 920us/step - loss: 0.3880 - accuracy: 0.8151\n",
      "Epoch 48/200\n",
      "176/176 [==============================] - 0s 937us/step - loss: 0.3880 - accuracy: 0.8164\n",
      "Epoch 49/200\n",
      "176/176 [==============================] - 0s 920us/step - loss: 0.3865 - accuracy: 0.8172\n",
      "Epoch 50/200\n",
      "176/176 [==============================] - 0s 909us/step - loss: 0.3870 - accuracy: 0.8156\n",
      "Epoch 51/200\n",
      "176/176 [==============================] - 0s 920us/step - loss: 0.3857 - accuracy: 0.8188\n",
      "Epoch 52/200\n",
      "176/176 [==============================] - 0s 949us/step - loss: 0.3857 - accuracy: 0.8180\n",
      "Epoch 53/200\n",
      "176/176 [==============================] - 0s 937us/step - loss: 0.3846 - accuracy: 0.8183\n",
      "Epoch 54/200\n",
      "176/176 [==============================] - 0s 898us/step - loss: 0.3850 - accuracy: 0.8206\n",
      "Epoch 55/200\n",
      "176/176 [==============================] - 0s 903us/step - loss: 0.3844 - accuracy: 0.8162\n",
      "Epoch 56/200\n",
      "176/176 [==============================] - 0s 903us/step - loss: 0.3830 - accuracy: 0.8217\n",
      "Epoch 57/200\n",
      "176/176 [==============================] - 0s 932us/step - loss: 0.3833 - accuracy: 0.8199\n",
      "Epoch 58/200\n",
      "176/176 [==============================] - 0s 903us/step - loss: 0.3830 - accuracy: 0.8192\n",
      "Epoch 59/200\n",
      "176/176 [==============================] - 0s 898us/step - loss: 0.3819 - accuracy: 0.8201\n",
      "Epoch 60/200\n",
      "176/176 [==============================] - 0s 915us/step - loss: 0.3826 - accuracy: 0.8196\n",
      "Epoch 61/200\n",
      "176/176 [==============================] - 0s 915us/step - loss: 0.3822 - accuracy: 0.8199\n",
      "Epoch 62/200\n",
      "176/176 [==============================] - 0s 903us/step - loss: 0.3812 - accuracy: 0.8196\n",
      "Epoch 63/200\n",
      "176/176 [==============================] - 0s 920us/step - loss: 0.3817 - accuracy: 0.8194\n",
      "Epoch 64/200\n",
      "176/176 [==============================] - 0s 915us/step - loss: 0.3801 - accuracy: 0.8178\n",
      "Epoch 65/200\n",
      "176/176 [==============================] - 0s 943us/step - loss: 0.3808 - accuracy: 0.8203\n",
      "Epoch 66/200\n",
      "176/176 [==============================] - 0s 938us/step - loss: 0.3794 - accuracy: 0.8197\n",
      "Epoch 67/200\n",
      "176/176 [==============================] - 0s 915us/step - loss: 0.3796 - accuracy: 0.8208\n",
      "Epoch 68/200\n",
      "176/176 [==============================] - 0s 898us/step - loss: 0.3794 - accuracy: 0.8190\n",
      "Epoch 69/200\n",
      "176/176 [==============================] - 0s 915us/step - loss: 0.3790 - accuracy: 0.8213\n",
      "Epoch 70/200\n",
      "176/176 [==============================] - 0s 915us/step - loss: 0.3780 - accuracy: 0.8197\n",
      "Epoch 71/200\n",
      "176/176 [==============================] - 0s 960us/step - loss: 0.3783 - accuracy: 0.8220\n",
      "Epoch 72/200\n",
      "176/176 [==============================] - 0s 926us/step - loss: 0.3768 - accuracy: 0.8228\n",
      "Epoch 73/200\n",
      "176/176 [==============================] - 0s 892us/step - loss: 0.3767 - accuracy: 0.8204\n",
      "Epoch 74/200\n",
      "176/176 [==============================] - 0s 915us/step - loss: 0.3762 - accuracy: 0.8215\n",
      "Epoch 75/200\n",
      "176/176 [==============================] - 0s 909us/step - loss: 0.3760 - accuracy: 0.8219\n",
      "Epoch 76/200\n",
      "176/176 [==============================] - 0s 892us/step - loss: 0.3764 - accuracy: 0.8192\n",
      "Epoch 77/200\n",
      "176/176 [==============================] - 0s 909us/step - loss: 0.3764 - accuracy: 0.8229\n",
      "Epoch 78/200\n",
      "176/176 [==============================] - 0s 915us/step - loss: 0.3750 - accuracy: 0.8226\n",
      "Epoch 79/200\n"
     ]
    },
    {
     "name": "stdout",
     "output_type": "stream",
     "text": [
      "176/176 [==============================] - 0s 915us/step - loss: 0.3746 - accuracy: 0.8235\n",
      "Epoch 80/200\n",
      "176/176 [==============================] - 0s 892us/step - loss: 0.3750 - accuracy: 0.8226\n",
      "Epoch 81/200\n",
      "176/176 [==============================] - 0s 892us/step - loss: 0.3735 - accuracy: 0.8251\n",
      "Epoch 82/200\n",
      "176/176 [==============================] - 0s 886us/step - loss: 0.3734 - accuracy: 0.8233\n",
      "Epoch 83/200\n",
      "176/176 [==============================] - 0s 926us/step - loss: 0.3730 - accuracy: 0.8233\n",
      "Epoch 84/200\n",
      "176/176 [==============================] - 0s 903us/step - loss: 0.3723 - accuracy: 0.8254\n",
      "Epoch 85/200\n",
      "176/176 [==============================] - 0s 989us/step - loss: 0.3725 - accuracy: 0.8235\n",
      "Epoch 86/200\n",
      "176/176 [==============================] - 0s 983us/step - loss: 0.3715 - accuracy: 0.8240\n",
      "Epoch 87/200\n",
      "176/176 [==============================] - 0s 903us/step - loss: 0.3710 - accuracy: 0.8229\n",
      "Epoch 88/200\n",
      "176/176 [==============================] - 0s 886us/step - loss: 0.3694 - accuracy: 0.8204\n",
      "Epoch 89/200\n",
      "176/176 [==============================] - ETA: 0s - loss: 0.3713 - accuracy: 0.82 - 0s 926us/step - loss: 0.3708 - accuracy: 0.8222\n",
      "Epoch 90/200\n",
      "176/176 [==============================] - 0s 898us/step - loss: 0.3700 - accuracy: 0.8256\n",
      "Epoch 91/200\n",
      "176/176 [==============================] - 0s 966us/step - loss: 0.3694 - accuracy: 0.8244\n",
      "Epoch 92/200\n",
      "176/176 [==============================] - 0s 920us/step - loss: 0.3696 - accuracy: 0.8258\n",
      "Epoch 93/200\n",
      "176/176 [==============================] - 0s 898us/step - loss: 0.3699 - accuracy: 0.8254\n",
      "Epoch 94/200\n",
      "176/176 [==============================] - 0s 909us/step - loss: 0.3685 - accuracy: 0.8245\n",
      "Epoch 95/200\n",
      "176/176 [==============================] - 0s 949us/step - loss: 0.3680 - accuracy: 0.8256\n",
      "Epoch 96/200\n",
      "176/176 [==============================] - 0s 966us/step - loss: 0.3687 - accuracy: 0.8252\n",
      "Epoch 97/200\n",
      "176/176 [==============================] - 0s 909us/step - loss: 0.3673 - accuracy: 0.8254\n",
      "Epoch 98/200\n",
      "176/176 [==============================] - 0s 881us/step - loss: 0.3667 - accuracy: 0.8267\n",
      "Epoch 99/200\n",
      "176/176 [==============================] - 0s 881us/step - loss: 0.3674 - accuracy: 0.8242\n",
      "Epoch 100/200\n",
      "176/176 [==============================] - 0s 915us/step - loss: 0.3677 - accuracy: 0.8247\n",
      "Epoch 101/200\n",
      "176/176 [==============================] - 0s 898us/step - loss: 0.3660 - accuracy: 0.8272\n",
      "Epoch 102/200\n",
      "176/176 [==============================] - 0s 898us/step - loss: 0.3659 - accuracy: 0.8267\n",
      "Epoch 103/200\n",
      "176/176 [==============================] - 0s 903us/step - loss: 0.3658 - accuracy: 0.8272\n",
      "Epoch 104/200\n",
      "176/176 [==============================] - 0s 926us/step - loss: 0.3652 - accuracy: 0.8245\n",
      "Epoch 105/200\n",
      "176/176 [==============================] - 0s 898us/step - loss: 0.3654 - accuracy: 0.8281\n",
      "Epoch 106/200\n",
      "176/176 [==============================] - 0s 869us/step - loss: 0.3648 - accuracy: 0.8256\n",
      "Epoch 107/200\n",
      "176/176 [==============================] - 0s 898us/step - loss: 0.3640 - accuracy: 0.8274\n",
      "Epoch 108/200\n",
      "176/176 [==============================] - 0s 932us/step - loss: 0.3643 - accuracy: 0.8270\n",
      "Epoch 109/200\n",
      "176/176 [==============================] - 0s 898us/step - loss: 0.3646 - accuracy: 0.8261\n",
      "Epoch 110/200\n",
      "176/176 [==============================] - 0s 898us/step - loss: 0.3627 - accuracy: 0.8265\n",
      "Epoch 111/200\n",
      "176/176 [==============================] - 0s 875us/step - loss: 0.3630 - accuracy: 0.8256\n",
      "Epoch 112/200\n",
      "176/176 [==============================] - 0s 886us/step - loss: 0.3621 - accuracy: 0.8276\n",
      "Epoch 113/200\n",
      "176/176 [==============================] - 0s 886us/step - loss: 0.3616 - accuracy: 0.8286\n",
      "Epoch 114/200\n",
      "176/176 [==============================] - 0s 909us/step - loss: 0.3619 - accuracy: 0.8281\n",
      "Epoch 115/200\n",
      "176/176 [==============================] - 0s 989us/step - loss: 0.3619 - accuracy: 0.8299\n",
      "Epoch 116/200\n",
      "176/176 [==============================] - 0s 903us/step - loss: 0.3619 - accuracy: 0.8258\n",
      "Epoch 117/200\n",
      "176/176 [==============================] - 0s 892us/step - loss: 0.3595 - accuracy: 0.8299\n",
      "Epoch 118/200\n",
      "176/176 [==============================] - 0s 909us/step - loss: 0.3600 - accuracy: 0.8284\n",
      "Epoch 119/200\n",
      "176/176 [==============================] - 0s 892us/step - loss: 0.3610 - accuracy: 0.8283\n",
      "Epoch 120/200\n",
      "176/176 [==============================] - 0s 903us/step - loss: 0.3612 - accuracy: 0.8268\n",
      "Epoch 121/200\n",
      "176/176 [==============================] - 0s 898us/step - loss: 0.3606 - accuracy: 0.8281\n",
      "Epoch 122/200\n",
      "176/176 [==============================] - 0s 920us/step - loss: 0.3604 - accuracy: 0.8283\n",
      "Epoch 123/200\n",
      "176/176 [==============================] - 0s 881us/step - loss: 0.3582 - accuracy: 0.8299\n",
      "Epoch 124/200\n",
      "176/176 [==============================] - 0s 898us/step - loss: 0.3596 - accuracy: 0.8293\n",
      "Epoch 125/200\n",
      "176/176 [==============================] - 0s 920us/step - loss: 0.3580 - accuracy: 0.8279\n",
      "Epoch 126/200\n",
      "176/176 [==============================] - 0s 898us/step - loss: 0.3584 - accuracy: 0.8267\n",
      "Epoch 127/200\n",
      "176/176 [==============================] - 0s 903us/step - loss: 0.3578 - accuracy: 0.8299\n",
      "Epoch 128/200\n",
      "176/176 [==============================] - 0s 892us/step - loss: 0.3569 - accuracy: 0.8295\n",
      "Epoch 129/200\n",
      "176/176 [==============================] - 0s 926us/step - loss: 0.3569 - accuracy: 0.8274\n",
      "Epoch 130/200\n",
      "176/176 [==============================] - 0s 892us/step - loss: 0.3564 - accuracy: 0.8283\n",
      "Epoch 131/200\n",
      "176/176 [==============================] - 0s 920us/step - loss: 0.3565 - accuracy: 0.8290\n",
      "Epoch 132/200\n",
      "176/176 [==============================] - 0s 892us/step - loss: 0.3566 - accuracy: 0.8263\n",
      "Epoch 133/200\n",
      "176/176 [==============================] - 0s 881us/step - loss: 0.3562 - accuracy: 0.8309\n",
      "Epoch 134/200\n",
      "176/176 [==============================] - 0s 903us/step - loss: 0.3560 - accuracy: 0.8304\n",
      "Epoch 135/200\n",
      "176/176 [==============================] - 0s 852us/step - loss: 0.3547 - accuracy: 0.8299\n",
      "Epoch 136/200\n",
      "176/176 [==============================] - 0s 909us/step - loss: 0.3551 - accuracy: 0.8293\n",
      "Epoch 137/200\n",
      "176/176 [==============================] - 0s 881us/step - loss: 0.3559 - accuracy: 0.8304\n",
      "Epoch 138/200\n",
      "176/176 [==============================] - 0s 881us/step - loss: 0.3551 - accuracy: 0.8338\n",
      "Epoch 139/200\n",
      "176/176 [==============================] - 0s 898us/step - loss: 0.3556 - accuracy: 0.8327\n",
      "Epoch 140/200\n",
      "176/176 [==============================] - 0s 903us/step - loss: 0.3536 - accuracy: 0.8290\n",
      "Epoch 141/200\n",
      "176/176 [==============================] - 0s 926us/step - loss: 0.3540 - accuracy: 0.8336\n",
      "Epoch 142/200\n",
      "176/176 [==============================] - 0s 903us/step - loss: 0.3535 - accuracy: 0.8322\n",
      "Epoch 143/200\n",
      "176/176 [==============================] - 0s 881us/step - loss: 0.3533 - accuracy: 0.8313\n",
      "Epoch 144/200\n",
      "176/176 [==============================] - 0s 875us/step - loss: 0.3531 - accuracy: 0.8309\n",
      "Epoch 145/200\n",
      "176/176 [==============================] - 0s 909us/step - loss: 0.3530 - accuracy: 0.8308\n",
      "Epoch 146/200\n",
      "176/176 [==============================] - 0s 875us/step - loss: 0.3526 - accuracy: 0.8324\n",
      "Epoch 147/200\n",
      "176/176 [==============================] - 0s 881us/step - loss: 0.3531 - accuracy: 0.8338\n",
      "Epoch 148/200\n",
      "176/176 [==============================] - 0s 898us/step - loss: 0.3531 - accuracy: 0.8322\n",
      "Epoch 149/200\n",
      "176/176 [==============================] - 0s 892us/step - loss: 0.3523 - accuracy: 0.8306\n",
      "Epoch 150/200\n",
      "176/176 [==============================] - 0s 881us/step - loss: 0.3523 - accuracy: 0.8315\n",
      "Epoch 151/200\n",
      "176/176 [==============================] - 0s 915us/step - loss: 0.3525 - accuracy: 0.8302\n",
      "Epoch 152/200\n",
      "176/176 [==============================] - 0s 869us/step - loss: 0.3504 - accuracy: 0.8315\n",
      "Epoch 153/200\n",
      "176/176 [==============================] - 0s 892us/step - loss: 0.3509 - accuracy: 0.8324\n",
      "Epoch 154/200\n",
      "176/176 [==============================] - 0s 909us/step - loss: 0.3510 - accuracy: 0.8299\n",
      "Epoch 155/200\n",
      "176/176 [==============================] - 0s 920us/step - loss: 0.3515 - accuracy: 0.8322\n",
      "Epoch 156/200\n",
      "176/176 [==============================] - 0s 886us/step - loss: 0.3500 - accuracy: 0.8336\n"
     ]
    },
    {
     "name": "stdout",
     "output_type": "stream",
     "text": [
      "Epoch 157/200\n",
      "176/176 [==============================] - 0s 881us/step - loss: 0.3492 - accuracy: 0.8311\n",
      "Epoch 158/200\n",
      "176/176 [==============================] - 0s 903us/step - loss: 0.3499 - accuracy: 0.8334\n",
      "Epoch 159/200\n",
      "176/176 [==============================] - 0s 898us/step - loss: 0.3494 - accuracy: 0.8348\n",
      "Epoch 160/200\n",
      "176/176 [==============================] - 0s 960us/step - loss: 0.3496 - accuracy: 0.8320\n",
      "Epoch 161/200\n",
      "176/176 [==============================] - 0s 960us/step - loss: 0.3491 - accuracy: 0.8313\n",
      "Epoch 162/200\n",
      "176/176 [==============================] - 0s 983us/step - loss: 0.3489 - accuracy: 0.8318\n",
      "Epoch 163/200\n",
      "176/176 [==============================] - 0s 909us/step - loss: 0.3480 - accuracy: 0.8315\n",
      "Epoch 164/200\n",
      "176/176 [==============================] - 0s 915us/step - loss: 0.3482 - accuracy: 0.8318\n",
      "Epoch 165/200\n",
      "176/176 [==============================] - 0s 886us/step - loss: 0.3477 - accuracy: 0.8313\n",
      "Epoch 166/200\n",
      "176/176 [==============================] - 0s 903us/step - loss: 0.3470 - accuracy: 0.8341\n",
      "Epoch 167/200\n",
      "176/176 [==============================] - 0s 898us/step - loss: 0.3479 - accuracy: 0.8324\n",
      "Epoch 168/200\n",
      "176/176 [==============================] - 0s 892us/step - loss: 0.3475 - accuracy: 0.8325\n",
      "Epoch 169/200\n",
      "176/176 [==============================] - 0s 852us/step - loss: 0.3474 - accuracy: 0.8331\n",
      "Epoch 170/200\n",
      "176/176 [==============================] - 0s 881us/step - loss: 0.3477 - accuracy: 0.8316\n",
      "Epoch 171/200\n",
      "176/176 [==============================] - 0s 881us/step - loss: 0.3479 - accuracy: 0.8322\n",
      "Epoch 172/200\n",
      "176/176 [==============================] - 0s 847us/step - loss: 0.3462 - accuracy: 0.8334\n",
      "Epoch 173/200\n",
      "176/176 [==============================] - 0s 886us/step - loss: 0.3474 - accuracy: 0.8354\n",
      "Epoch 174/200\n",
      "176/176 [==============================] - 0s 886us/step - loss: 0.3469 - accuracy: 0.8384\n",
      "Epoch 175/200\n",
      "176/176 [==============================] - 0s 858us/step - loss: 0.3465 - accuracy: 0.8352\n",
      "Epoch 176/200\n",
      "176/176 [==============================] - 0s 903us/step - loss: 0.3466 - accuracy: 0.8357\n",
      "Epoch 177/200\n",
      "176/176 [==============================] - 0s 869us/step - loss: 0.3452 - accuracy: 0.8356\n",
      "Epoch 178/200\n",
      "176/176 [==============================] - 0s 852us/step - loss: 0.3444 - accuracy: 0.8372\n",
      "Epoch 179/200\n",
      "176/176 [==============================] - 0s 886us/step - loss: 0.3462 - accuracy: 0.8341\n",
      "Epoch 180/200\n",
      "176/176 [==============================] - 0s 903us/step - loss: 0.3436 - accuracy: 0.8352\n",
      "Epoch 181/200\n",
      "176/176 [==============================] - 0s 898us/step - loss: 0.3442 - accuracy: 0.8354\n",
      "Epoch 182/200\n",
      "176/176 [==============================] - 0s 920us/step - loss: 0.3441 - accuracy: 0.8364\n",
      "Epoch 183/200\n",
      "176/176 [==============================] - 0s 892us/step - loss: 0.3442 - accuracy: 0.8377\n",
      "Epoch 184/200\n",
      "176/176 [==============================] - 0s 875us/step - loss: 0.3432 - accuracy: 0.8354\n",
      "Epoch 185/200\n",
      "176/176 [==============================] - 0s 881us/step - loss: 0.3451 - accuracy: 0.8354\n",
      "Epoch 186/200\n",
      "176/176 [==============================] - 0s 869us/step - loss: 0.3432 - accuracy: 0.8402\n",
      "Epoch 187/200\n",
      "176/176 [==============================] - 0s 858us/step - loss: 0.3449 - accuracy: 0.8361\n",
      "Epoch 188/200\n",
      "176/176 [==============================] - 0s 881us/step - loss: 0.3428 - accuracy: 0.8372\n",
      "Epoch 189/200\n",
      "176/176 [==============================] - 0s 892us/step - loss: 0.3430 - accuracy: 0.8389\n",
      "Epoch 190/200\n",
      "176/176 [==============================] - 0s 881us/step - loss: 0.3420 - accuracy: 0.8373\n",
      "Epoch 191/200\n",
      "176/176 [==============================] - 0s 881us/step - loss: 0.3427 - accuracy: 0.8372\n",
      "Epoch 192/200\n",
      "176/176 [==============================] - ETA: 0s - loss: 0.3396 - accuracy: 0.84 - 0s 847us/step - loss: 0.3430 - accuracy: 0.8386\n",
      "Epoch 193/200\n",
      "176/176 [==============================] - 0s 909us/step - loss: 0.3424 - accuracy: 0.8379\n",
      "Epoch 194/200\n",
      "176/176 [==============================] - 0s 886us/step - loss: 0.3407 - accuracy: 0.8361\n",
      "Epoch 195/200\n",
      "176/176 [==============================] - 0s 869us/step - loss: 0.3418 - accuracy: 0.8361\n",
      "Epoch 196/200\n",
      "176/176 [==============================] - 0s 858us/step - loss: 0.3407 - accuracy: 0.8373\n",
      "Epoch 197/200\n",
      "176/176 [==============================] - 0s 881us/step - loss: 0.3425 - accuracy: 0.8421\n",
      "Epoch 198/200\n",
      "176/176 [==============================] - 0s 886us/step - loss: 0.3406 - accuracy: 0.8402\n",
      "Epoch 199/200\n",
      "176/176 [==============================] - 0s 903us/step - loss: 0.3415 - accuracy: 0.8373\n",
      "Epoch 200/200\n",
      "176/176 [==============================] - 0s 858us/step - loss: 0.3397 - accuracy: 0.8375\n"
     ]
    },
    {
     "data": {
      "text/plain": [
       "<tensorflow.python.keras.callbacks.History at 0x22fa6a7df70>"
      ]
     },
     "execution_count": 44,
     "metadata": {},
     "output_type": "execute_result"
    }
   ],
   "source": [
    "model = keras.Sequential([\n",
    "    keras.layers.Dense(20,input_shape = (26,), activation='relu'),\n",
    "    keras.layers.Dense(15, activation='relu'),\n",
    "    keras.layers.Dense(1,activation='sigmoid')\n",
    "])\n",
    "\n",
    "model.compile(\n",
    "    optimizer='adam',\n",
    "    loss = 'binary_crossentropy',\n",
    "    metrics = ['accuracy']\n",
    ")\n",
    "\n",
    "model.fit(x_train, y_train,epochs = 200)"
   ]
  },
  {
   "cell_type": "code",
   "execution_count": 45,
   "id": "128531a8",
   "metadata": {},
   "outputs": [
    {
     "name": "stdout",
     "output_type": "stream",
     "text": [
      "44/44 [==============================] - 0s 773us/step - loss: 0.5010 - accuracy: 0.7761\n"
     ]
    },
    {
     "data": {
      "text/plain": [
       "[0.5010040998458862, 0.7761194109916687]"
      ]
     },
     "execution_count": 45,
     "metadata": {},
     "output_type": "execute_result"
    }
   ],
   "source": [
    "model.evaluate(x_test,y_test)"
   ]
  },
  {
   "cell_type": "code",
   "execution_count": 46,
   "id": "615d8df4",
   "metadata": {},
   "outputs": [],
   "source": [
    "yp = model.predict(x_test)"
   ]
  },
  {
   "cell_type": "code",
   "execution_count": 47,
   "id": "89de43e3",
   "metadata": {},
   "outputs": [
    {
     "data": {
      "text/plain": [
       "array([[0.14820999],\n",
       "       [0.0055427 ],\n",
       "       [0.10438699],\n",
       "       [0.860835  ],\n",
       "       [0.878445  ]], dtype=float32)"
      ]
     },
     "execution_count": 47,
     "metadata": {},
     "output_type": "execute_result"
    }
   ],
   "source": [
    "yp[:5]"
   ]
  },
  {
   "cell_type": "code",
   "execution_count": 48,
   "id": "9f894c4a",
   "metadata": {},
   "outputs": [
    {
     "data": {
      "text/plain": [
       "5561    0\n",
       "5814    0\n",
       "2645    0\n",
       "3983    1\n",
       "6438    1\n",
       "Name: Churn, dtype: int64"
      ]
     },
     "execution_count": 48,
     "metadata": {},
     "output_type": "execute_result"
    }
   ],
   "source": [
    "y_test[:5]"
   ]
  },
  {
   "cell_type": "code",
   "execution_count": 49,
   "id": "d9813515",
   "metadata": {},
   "outputs": [],
   "source": [
    "y_pred = []\n",
    "for i in yp:\n",
    "    if i > 0.50:\n",
    "        y_pred.append(1)\n",
    "    else:\n",
    "        y_pred.append(0)"
   ]
  },
  {
   "cell_type": "code",
   "execution_count": 50,
   "id": "fa846b26",
   "metadata": {},
   "outputs": [
    {
     "data": {
      "text/plain": [
       "[0, 0, 0, 1, 1]"
      ]
     },
     "execution_count": 50,
     "metadata": {},
     "output_type": "execute_result"
    }
   ],
   "source": [
    "y_pred[:5]"
   ]
  },
  {
   "cell_type": "code",
   "execution_count": 51,
   "id": "cb5ad55e",
   "metadata": {},
   "outputs": [
    {
     "name": "stdout",
     "output_type": "stream",
     "text": [
      "              precision    recall  f1-score   support\n",
      "\n",
      "           0       0.82      0.89      0.85      1038\n",
      "           1       0.59      0.46      0.52       369\n",
      "\n",
      "    accuracy                           0.78      1407\n",
      "   macro avg       0.71      0.68      0.69      1407\n",
      "weighted avg       0.76      0.78      0.77      1407\n",
      "\n"
     ]
    }
   ],
   "source": [
    "from sklearn.metrics import confusion_matrix, classification_report\n",
    "print(classification_report(y_test,y_pred))"
   ]
  },
  {
   "cell_type": "code",
   "execution_count": 53,
   "id": "d6133f67",
   "metadata": {},
   "outputs": [
    {
     "data": {
      "text/plain": [
       "0    1038\n",
       "1     369\n",
       "Name: Churn, dtype: int64"
      ]
     },
     "execution_count": 53,
     "metadata": {},
     "output_type": "execute_result"
    }
   ],
   "source": [
    "y_test.value_counts()"
   ]
  },
  {
   "cell_type": "code",
   "execution_count": 54,
   "id": "e28e9a1d",
   "metadata": {},
   "outputs": [
    {
     "data": {
      "text/plain": [
       "Text(69.0, 0.5, 'Test')"
      ]
     },
     "execution_count": 54,
     "metadata": {},
     "output_type": "execute_result"
    },
    {
     "data": {
      "image/png": "[encoded data removed]",
      "text/plain": [
       "<Figure size 720x504 with 2 Axes>"
      ]
     },
     "metadata": {
      "needs_background": "light"
     },
     "output_type": "display_data"
    }
   ],
   "source": [
    "import seaborn as sns\n",
    "cm = tf.math.confusion_matrix(labels=y_test,predictions = y_pred)\n",
    "plt.figure(figsize=(10,7))\n",
    "sns.heatmap(cm,annot = True,fmt = 'd')\n",
    "plt.xlabel('Predicted')\n",
    "plt.ylabel('Test')\n"
   ]
  },
  {
   "cell_type": "code",
   "execution_count": null,
   "id": "aed62db8",
   "metadata": {},
   "outputs": [],
   "source": []
  }
 ],
 "metadata": {
  "kernelspec": {
   "display_name": "Python 3 (ipykernel)",
   "language": "python",
   "name": "python3"
  },
  "language_info": {
   "codemirror_mode": {
    "name": "ipython",
    "version": 3
   },
   "file_extension": ".py",
   "mimetype": "text/x-python",
   "name": "python",
   "nbconvert_exporter": "python",
   "pygments_lexer": "ipython3",
   "version": "3.8.8"
  }
 },
 "nbformat": 4,
 "nbformat_minor": 5
}
