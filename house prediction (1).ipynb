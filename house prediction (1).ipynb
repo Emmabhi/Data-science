{
 "cells": [
  {
   "cell_type": "code",
   "execution_count": 1,
   "id": "4866d573",
   "metadata": {},
   "outputs": [
    {
     "name": "stdout",
     "output_type": "stream",
     "text": [
      "Predicting The price of random 5 Houses.\n",
      "These are the hourses.\n",
      "   Rooms  Bathroom  Landsize  Lattitude  Longtitude\n",
      "1      2         1       156   -37.8079    144.9934\n",
      "2      3         2       134   -37.8093    144.9944\n",
      "4      4         1       120   -37.8072    144.9941\n",
      "6      3         2       245   -37.8024    144.9993\n",
      "7      2         1       256   -37.8060    144.9954\n",
      "Now , Predicting the price of Houses.\n",
      "[1035000 1465000 1600000 1876000 1636000]\n"
     ]
    }
   ],
   "source": [
    "from pandas import read_csv\n",
    "import pandas as pd\n",
    "\n",
    "FileName = 'House Pricing.csv'\n",
    "FilePath = pd.read_csv(FileName)\n",
    "\n",
    "FilePath.columns\n",
    "\n",
    "Data = FilePath.dropna(axis=0)\n",
    " \n",
    "Y = Data.Price \n",
    "\n",
    "Data_Features = ['Rooms','Bathroom','Landsize','Lattitude','Longtitude'] \n",
    "\n",
    "X = Data[Data_Features]\n",
    "\n",
    "from sklearn import metrics\n",
    "from sklearn.tree import DecisionTreeClassifier\n",
    "\n",
    "Model = DecisionTreeClassifier(random_state=1)\n",
    "\n",
    "Model.fit(X,Y)\n",
    "\n",
    "print(\"Predicting The price of random 5 Houses.\")\n",
    "print(\"These are the hourses.\")\n",
    "print(X.head())\n",
    "print(\"Now , Predicting the price of Houses.\")\n",
    "print(Model.predict(X.head()))\n",
    "\n"
   ]
  },
  {
   "cell_type": "code",
   "execution_count": null,
   "id": "d810b0a3",
   "metadata": {},
   "outputs": [],
   "source": []
  }
 ],
 "metadata": {
  "kernelspec": {
   "display_name": "Python 3 (ipykernel)",
   "language": "python",
   "name": "python3"
  },
  "language_info": {
   "codemirror_mode": {
    "name": "ipython",
    "version": 3
   },
   "file_extension": ".py",
   "mimetype": "text/x-python",
   "name": "python",
   "nbconvert_exporter": "python",
   "pygments_lexer": "ipython3",
   "version": "3.8.8"
  }
 },
 "nbformat": 4,
 "nbformat_minor": 5
}
